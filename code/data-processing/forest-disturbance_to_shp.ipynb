{
 "cells": [
  {
   "cell_type": "code",
   "execution_count": 20,
   "id": "733d793a-e493-4366-b0ae-bbbf69f00ba6",
   "metadata": {},
   "outputs": [],
   "source": [
    "import os\n",
    "import rasterio as rio\n",
    "from rasterio.plot import show\n",
    "from rasterio.features import shapes\n",
    "\n",
    "import geopandas as gpd\n",
    "from shapely.geometry import Polygon"
   ]
  },
  {
   "cell_type": "code",
   "execution_count": 22,
   "id": "30ba9a22-50c9-44ad-9551-791f0f043e7c",
   "metadata": {},
   "outputs": [],
   "source": [
    "rloc = '/home/jovyan/data-store/data/iplant/home/shared/earthlab/forest_carbon_codefest/Disturbance/simple_dist_stack_Southern_Rockies.tif'\n",
    "nodata_values = [0, 255]\n",
    "\n",
    "\n",
    "with rio.open(rloc) as r:\n",
    "    prof = r.profile.copy()\n",
    "    desc = r.descriptions\n",
    "\n",
    "out_dir = './disturbance_shps'\n",
    "if not os.path.exists(out_dir): os.mkdir(out_dir)\n",
    "\n",
    "for i in range(prof['count']):\n",
    "    with rio.open(rloc) as r:\n",
    "        dat = r.read(i+1)\n",
    "    name = desc[i]\n",
    "    \n",
    "    sh = shapes(dat, transform = prof['transform'])\n",
    "    geom = []\n",
    "    vals = []\n",
    "    for s in sh:\n",
    "        geom.append(Polygon(s[0]['coordinates'][0]))\n",
    "        vals.append(s[1])\n",
    "    \n",
    "    dist_feat = gpd.GeoDataFrame(\n",
    "        {'value':vals, 'geometry':geom},\n",
    "        crs=prof['crs'],\n",
    "    )\n",
    "    out_shp_dir = os.path.join(out_dir, name)\n",
    "    \n",
    "    for ndv in nodata_values:\n",
    "        dist_feat = dist_feat[dist_feat.value!=ndv].reset_index(drop=True)\n",
    "\n",
    "    dist_feat.to_file(out_shp_dir)"
   ]
  }
 ],
 "metadata": {
  "kernelspec": {
   "display_name": "Python 3 (ipykernel)",
   "language": "python",
   "name": "python3"
  },
  "language_info": {
   "codemirror_mode": {
    "name": "ipython",
    "version": 3
   },
   "file_extension": ".py",
   "mimetype": "text/x-python",
   "name": "python",
   "nbconvert_exporter": "python",
   "pygments_lexer": "ipython3",
   "version": "3.11.4"
  }
 },
 "nbformat": 4,
 "nbformat_minor": 5
}
